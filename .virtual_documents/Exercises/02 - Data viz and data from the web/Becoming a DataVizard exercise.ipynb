


# Let's load necessary libraries and the datasets
# "pip install seaborn" if necessary

import pandas as pd
import numpy as np
import matplotlib.pyplot as plt
%matplotlib inline
import seaborn as sns
import math

data_folder = './Data/'


movies = pd.read_csv(data_folder+'blockbusters.csv')
movies['worldwide_gross'] = movies['worldwide_gross'].str.replace('$', '', regex=False).str.replace(',', '', regex=False).astype(float)

commune_pop = pd.read_excel(data_folder+'communes_pop.xls',skiprows=5,skipfooter=7,
                            sheet_name='2017',names=['commune','population_Jan',
                                                     'birth_alive','death','natrual_increase',
                                                     'arrivals','departure','migratory_balance',
                                                     'divergence_statistic','population_Dec','variation_num',
                                                     'variation_ratio'])

pop_per_commune = commune_pop[[name.startswith('......') for name in commune_pop.commune]].copy()
















#we use pandas wrapper
#movies['worldwide_gross'].hist(bins = 100)

#alternatively, we can use matplotlib directly
plt.hist(movies['worldwide_gross'].values, bins = 100)

plt.xlabel('Worldwide gross revenue')
plt.ylabel('Number of movies')
plt.title('Gross revenue, histogram');


plt.boxplot(movies['worldwide_gross'])
plt.xticks([])
plt.title('Worldwide gross revenue');





plt.scatter(movies['worldwide_gross'], movies['imdb_rating'])

plt.xlabel('Worldwide gross revenue')
plt.ylabel('IMDB rating')





plt.scatter(movies['worldwide_gross'], movies['imdb_rating'], s = 2)

plt.xlabel('Worldwide gross revenue')
plt.ylabel('IMDB rating')








sns.jointplot(x=movies['worldwide_gross'], y=movies['imdb_rating'], kind="hex")


sns.jointplot(data = movies, x = 'worldwide_gross', y = 'imdb_rating', kind="kde")



sns.jointplot(data = movies, x = 'worldwide_gross', y = 'imdb_rating', kind="reg")





ax = sns.barplot(x="Main_Genre", y="worldwide_gross", data=movies.loc[movies['Main_Genre'].isin(['Thriller','Comedy',
                                                                                      'Fantasy','Sci-Fi','Romance'])])


ax = sns.boxplot(x="Main_Genre", y="worldwide_gross", data=movies.loc[movies['Main_Genre'].isin(['Thriller','Comedy',
                                                                                      'Fantasy','Sci-Fi','Romance'])])


ax = sns.violinplot(x="Main_Genre", y="worldwide_gross", data=movies.loc[movies['Main_Genre'].isin(['Thriller','Comedy',
                                                                                      'Fantasy','Sci-Fi','Romance'])])





# Calculate yearly stats across movies here
gross_revenue_peryear = movies.groupby('year')['worldwide_gross'].agg(['mean','std'])






# Write your code to make plot with errorbars here
plt.errorbar(gross_revenue_peryear.index,gross_revenue_peryear['mean'],yerr=gross_revenue_peryear['std'],fmt='-o',ecolor='black',capsize=5,markerfacecolor='red')


# Write your code to make filled plot here
plt.errorbar(gross_revenue_peryear.index,gross_revenue_peryear['mean'],yerr=gross_revenue_peryear['std'],fmt='-o',ecolor='black',capsize=5,markerfacecolor='red')



# Write your interpretation here 
#increase of the std and the mean along the time
plt.plot(gross_revenue_peryear.index,gross_revenue_peryear['mean'],'-ko',markerfacecolor='red')
plt.fill_between(gross_revenue_peryear.index,gross_revenue_peryear['mean']-gross_revenue_peryear['std'],gross_revenue_peryear['mean']+gross_revenue_peryear['std'],color='0.8')






# Calculate stats by genre here

filmcat = movies.groupby('Main_Genre').agg(Count =('length','count'),List= ('length',list))
filmcat.head(16)


# Write your code to make 4x4 panel here
fig, axs = plt.subplots(4, 4, figsize=(10, 6), layout='constrained')
fig.supxlabel('Movies length in minutes')
fig.supylabel('Number of movies')
axs = axs.ravel()
i=0
for row in filmcat.iterrows():
    axs[i].hist(row[1][1],bins=20)
    axs[i].set_title(row[0])
    i=i+1



# Write your interpretation here
#less long than the other: comedy and animation





# Write your code to make the first heatmap here
#filmcat2 = movies.groupby(['Main_Genre','studio']).agg(Genre_count =('Main_Genre','count'))

filmcat2 = movies.groupby(['Main_Genre','studio']).agg(Genre_count =('Main_Genre','count')).reset_index()
quoi=filmcat2.pivot(index ='Main_Genre',columns='studio',values='Genre_count')
sns.heatmap(quoi)



# Write your code to make the second heatmap here
grossco = movies.groupby(['Main_Genre','Genre_2']).agg(Revenue =('worldwide_gross','sum')).reset_index()
coubeh=grossco.pivot(index ='Main_Genre',columns='Genre_2',values='Revenue')
sns.heatmap(coubeh)



# Write your interpretations here
commune_pop.head()





# Write your dataviz show-off code here






# Write your code here

pop_per_commune['population_Dec'].hist(bins=100)
a=plt.hist(pop_per_commune.population_Dec, bins=100)
plt.show()





b=plt.hist(pop_per_commune.population_Dec, bins=1000,log=True)


# Write your code here

a=plt.hist(pop_per_commune.population_Dec, bins=100,log=True)



# Write your interpretations here
c= plt.loglog(a[1][1:],a[0])


d= plt.loglog(b[1][1:],b[0])


cumulative=plt.hist(pop_per_commune.population_Dec, bins=100,log=True, cumulative = -1)
cumulative


loglog_cumulative = plt.loglog(cumulative[1][1:],cumulative[0])



