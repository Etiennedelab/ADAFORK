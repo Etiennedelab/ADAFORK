





import pandas as pd
import pandas as pd
import numpy as np
import matplotlib.pyplot as plt
%matplotlib inline
import seaborn as sns
import math

#load the statistical libraries
from statsmodels.stats import diagnostic
from statsmodels.stats import proportion
from scipy import stats


data_folder = './data/'
df = pd.read_csv(data_folder + 'acs2015_county_data.csv')


df.columns


df.sample(10)





df['IncomePerCap'].hist(bins = 50)





df['IncomePerCap'].describe()





# does the data come from a normal distrbution?
diagnostic.kstest_normal(df['IncomePerCap'].values, dist = 'norm')
#la p-value correspond a la deuxième valeur, ici la fonction peut être utilisé pour deux types de ditrsibution normal ou exponentielle





#how about exponential?
diagnostic.kstest_normal(df['IncomePerCap'].values, dist = 'exp')











#make 10 samples with replacement
sample1_counties = df.sample(n = 10, replace = True)

#make 10 samples without replacement
sample1_counties = df.sample(n = 10, replace = False)

#sometimes we want to sample in an ublanaced way, so that we upsample datapoints of certain characteristic,
#and downsample the others. this can be acieved with weights parameter
#here we sample by upsampling counties with large population
sample2_counties = df.sample(n = 10, replace = False, weights = df['TotalPop'])  #plus la ville a d'habitants plus elle a de chances d'être sélectionné


#on avergage, the samples in the sample produce with reveighting now have higher population, as we wanted!
print(sample1_counties['TotalPop'].mean())
print(sample2_counties['TotalPop'].mean())








stats.pearsonr(df['IncomePerCap'],df['Employed'])





stats.spearmanr(df['IncomePerCap'],df['Employed'])
#la p value pour les deux test correspond à l'hypothèse "les deux valeurs ne sont pas corrélées et sont normalement distribuées" et donc plus généralement si la valeur est petite on peut rejeter cette hypothèse et donc crédibiliser la corrélation











df.loc[df['State'] == 'New York']['IncomePerCap'].mean()


df.loc[df['State'] == 'California']['IncomePerCap'].mean()





stats.ttest_ind(df.loc[df['State'] == 'New York']['IncomePerCap'], df.loc[df['State'] == 'California']['IncomePerCap'])
#This is a test for the null hypothesis that 2 independent samples have identical average (expected) values. This test assumes that the populations have identical variances by default.








ax = sns.barplot(x="State", y="IncomePerCap", data=df.loc[df['State'].isin(['New York','California'])])
plt.ylim([25000,32000])





### your code and or answer here ###
stats.pearsonr(df['SelfEmployed'],df['IncomePerCap'])

stats.spearmanr(df['SelfEmployed'],df['IncomePerCap'])
# in both we can reject that there is no correlation p_value<0.05 but the correlation is quite small around 0.1 for pearson and 0.05 for spearman





### your code and or answer here ###
df_bis=df.loc[df.State.isin(["Minnesota","Wisconsin","Tennessee"])]
print(stats.pearsonr(df_bis['SelfEmployed'],df_bis["IncomePerCap"]))
print(stats.spearmanr(df_bis['SelfEmployed'],df_bis['IncomePerCap']))





### your code and or answer here ###
list=np.array(["Tennessee","Minnesota","Wisconsin"])
#val=np.array([])
#p_value=np.array([])
for i in list: 
    #val= np.append(val,stats.spearmanr(df_bis['SelfEmployed'][df_bis["State"]== i],df_bis['IncomePerCap'][df_bis["State"]== i])[0])
    #p_value = np.append(p_value,stats.spearmanr(df_bis['SelfEmployed'][df_bis["State"]== i],df_bis['IncomePerCap'][df_bis["State"]== i])[1])
    print(i,stats.spearmanr(df_bis['SelfEmployed'][df_bis["State"]== i],df_bis['IncomePerCap'][df_bis["State"]== i]),stats.pearsonr(df_bis['SelfEmployed'][df_bis["State"]== i],df_bis['IncomePerCap'][df_bis["State"]== i]))
#wisconsin





### your code and or answer here ###
df_B = df.loc[df.State.isin(["New Jersey", "Kansas",  "Rhode Island"])]
print(stats.pearsonr(df_B['SelfEmployed'],df_B["IncomePerCap"]),"\n")
print(stats.spearmanr(df_B['SelfEmployed'],df_B['IncomePerCap']),"\n")
list2=np.array(["New Jersey", "Kansas",  "Rhode Island"])
for i in list2: 
    print(i,stats.spearmanr(df_B['SelfEmployed'][df_B["State"]== i],df_B['IncomePerCap'][df_B["State"]== i]),stats.pearsonr(df_B['SelfEmployed'][df_B["State"]== i],df_B['IncomePerCap'][df_B["State"]== i]),"\n")
#for New Jersey we have to admit that the p-value is superior to 0.05 therefore the income is uncorrlated for all the state of A it is negative correlation and p-value inferior to 0.05 therefore i would recommend to not be self-employed, for Kansas and Rhode island the correlation is positive and the p-value is inferior to 0 therefore i would recommend to be self-umployed











### your code and or answer here ###
#20 th 110000 and 114000 we see that 1st quantile therefore 5% is in between 350 people





### your code and or answer here ###
a





### your code and or answer here ###
import statsmodels
statsmodels.stats.proportion.binom_test(28,100,0.2,alternative='larger')
c





### your code and or answer here ###
c)






### your code and or answer here ### attention d corrélation pas causalité bg
a)





### your code and or answer here ###
d)
