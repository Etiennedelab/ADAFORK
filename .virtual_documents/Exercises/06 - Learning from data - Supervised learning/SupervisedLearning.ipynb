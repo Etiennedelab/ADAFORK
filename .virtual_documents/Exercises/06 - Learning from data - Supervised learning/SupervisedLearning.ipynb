


import pandas as pd
import numpy as np
import matplotlib.pyplot as plt
from sklearn.linear_model import LinearRegression, LogisticRegression, Ridge
# from sklearn.preprocessing import OneHotEncoder
# from pandas.plotting import scatter_matrix
from sklearn.neighbors import KNeighborsClassifier
from sklearn.model_selection import cross_val_predict
from sklearn.model_selection import cross_val_score
from sklearn.metrics import mean_squared_error, auc, roc_curve
# import seaborn as sns
%matplotlib inline








data = pd.read_csv('data/Advertising.csv', index_col=0)
data.head()





data.shape





fig, axs = plt.subplots(1, 3, sharey=True)
data.plot(kind='scatter', x='TV', y='sales', ax=axs[0], figsize=(16, 5), grid=True)
data.plot(kind='scatter', x='radio', y='sales', ax=axs[1], grid=True)
data.plot(kind='scatter', x='newspaper', y='sales', ax=axs[2], grid=True)

















feature_cols = ['TV', 'radio', 'newspaper']
X = data[feature_cols]
y = data.sales

X.describe()





lin_reg = LinearRegression()  # create the model
lin_reg.fit(X, y)  # train it





for f in range(len(feature_cols)):
    print("{0} * {1} + ".format(lin_reg.coef_[f], feature_cols[f]))
print(lin_reg.intercept_)








lr = LinearRegression()

# cross_val_predict returns an array of the same size as `y` where each entry
# is a prediction obtained by cross validation:
predicted = cross_val_predict(lr, X, y, cv=5)

# Plot the results
fig, ax = plt.subplots(figsize=(12, 8))
ax.scatter(y, predicted, edgecolors=(0, 0, 0))
ax.plot([min(y), max(y)], [min(y), max(y)], 'r--', lw=4)
ax.set_xlabel('Original')
ax.set_ylabel('Predicted')
plt.show()








mean_squared_error(y, predicted)








X = X[:5]
y = y[:5]


lr = LinearRegression()

predicted = cross_val_predict(lr, X, y, cv=5)

# Plot the results
fig, ax = plt.subplots(figsize=(12, 8))
ax.scatter(y, predicted, edgecolors=(0, 0, 0))
ax.plot([min(y), max(y)], [min(y), max(y)], 'r--', lw=4)
ax.set_xlabel('Original')
ax.set_ylabel('Predicted')
plt.show()


mean_squared_error(y, predicted)





ridge = Ridge(alpha=6)

# cross_val_predict returns an array of the same size as `y` where each entry
# is a prediction obtained by cross validation:
predicted_r = cross_val_predict(ridge, X, y, cv=5)

fig, ax = plt.subplots(figsize=(12, 8))
ax.scatter(y, predicted_r, edgecolors=(0, 0, 0))
ax.plot([min(y), max(y)], [min(y), max(y)], 'r--', lw=4)
ax.set_xlabel('Original')
ax.set_ylabel('Predicted')
plt.show()


mean_squared_error(y, predicted_r)








titanic = pd.read_excel('data/titanic.xls')
titanic.head(5)





dead = titanic[titanic['survived']==0]
survived = titanic[titanic['survived']==1]

print("Survived {0}, Dead {1}".format(len(survived), len(dead)))
print("Survived {:.2%}".format(len(survived)/len(titanic)))





titanic_features = ['sex', 'age', 'sibsp', 'parch', 'fare']









# The features vector

X = pd.get_dummies(titanic[titanic_features])
X.head()





len(X[X.isna().any(axis=1)])





X = X.fillna(X.mean())

len(X[X.isna().any(axis=1)])





y = titanic['survived']





logistic = LogisticRegression(solver='lbfgs')





precision = cross_val_score(logistic, X, y, cv=10, scoring="precision")
recall = cross_val_score(logistic, X, y, cv=10, scoring="recall")

# Precision: avoid false positives
print("Precision: %0.2f (+/- %0.2f)" % (precision.mean(), precision.std() * 2))
# Recall: avoid false negatives
print("Recall: %0.2f (+/- %0.2f)" % (recall.mean(), recall.std() * 2))





# Predict the probabilities with a cross validationn
y_pred = cross_val_predict(logistic, X, y, cv=10, method="predict_proba")
# Compute the False Positive Rate and True Positive Rate
fpr, tpr, _ = roc_curve(y, y_pred[:, 1])
# Compute the area under the fpt-tpf curve
auc_score = auc(fpr, tpr)





plt.plot(fpr, tpr)
plt.plot([0, 1], [0, 1],'r--')
plt.xlabel("False Positive Rate")
plt.ylabel("True Positive Rate")
plt.title("ROC Curve - Area = {:.5f}".format(auc_score));





logistic = LogisticRegression(solver='lbfgs')
logistic.fit(X.values, y)






X.columns
#man25 = X[(X.age==25) & (X.sibsp==0) & (X.parch==0) & (X.fare==100) ]
feature_cols = ['age', 'sibsp', 'parch', 'fare','sex_female','sex_male']
for f in range(len(feature_cols)):
    print("{0} * {1} + ".format(logistic.coef_[0][f], feature_cols[f]))
print(logistic.intercept_)
X.head()





'''
coef= [25,0,0,100,0,1]
prob=0
for f in range(len(feature_cols)):
    prob+= logistic.coef_[0][f]*coef[f]
print(prob)
'''
coef= [[25,0,0,100,0,1]]
pred = logistic.predict(coef)
print(pred[0])





feature_cols = ['age', 'sibsp', 'parch', 'fare','sex_female','sex_male']
for f in range(len(feature_cols)):
    print("{0} * {1} + ".format(logistic.coef_[0][f], feature_cols[f]))
print(logistic.intercept_)
X.head()





coef= [[35,0,0,100,1,0]]
'''prob=0
for f in range(len(feature_cols)):
    prob+= logistic.coef_[0][f]*coef[f]
print(prob)
'''
pred = logistic.predict(coef)
print(pred[0])





from sklearn.datasets import make_moons, make_gaussian_quantiles
from sklearn.model_selection import train_test_split

X_moons, y_moons = make_moons(500, noise=0.2, random_state=0)
X_circles, y_circles = make_gaussian_quantiles(n_samples=100, random_state=0)


fig, axs = plt.subplots(1, 2, figsize=(9,4))

axs[0].scatter(X_moons[:,0], X_moons[:,1], c=y_moons)
axs[0].set_title('Moon Data')

axs[1].scatter(X_circles[:,0], X_circles[:,1], c=y_circles)
axs[1].set_title('Circles')





# Plotting helper 
# Source: https://scikit-learn.org/stable/auto_examples/neighbors/plot_classification.html
from matplotlib.colors import ListedColormap

def plot_prediction(model, X, y, ax, K):
    # step size in the mesh
    h = .02
    # Create color maps
    cmap_light = ListedColormap(['orange', 'cyan', 'cornflowerblue'])
    cmap_bold = ListedColormap(['darkorange', 'c', 'darkblue'])

    x_min, x_max = X[:, 0].min() - 1, X[:, 0].max() + 1
    y_min, y_max = X[:, 1].min() - 1, X[:, 1].max() + 1
    xx, yy = np.meshgrid(np.arange(x_min, x_max, h),
                         np.arange(y_min, y_max, h))
    Z = model.predict(np.c_[xx.ravel(), yy.ravel()])

    # Put the result into a color plot
    Z = Z.reshape(xx.shape)
    ax.pcolormesh(xx, yy, Z, cmap=cmap_light, shading='auto')

    # Plot also the training points
    ax.scatter(X[:, 0], X[:, 1], c=y, cmap=cmap_bold,
                edgecolor='k', s=20)
    ax.set_xlim(xx.min(), xx.max())
    ax.set_ylim(yy.min(), yy.max())
    ax.set_title("K = {}".format(K))





# K = 1
clf_moons_1 = KNeighborsClassifier(1)
clf_moons_1.fit(X_moons, y_moons)
clf_circles_1 = KNeighborsClassifier(1)
clf_circles_1.fit(X_circles, y_circles)

# K = 15
clf_moons_15 = KNeighborsClassifier(15)
clf_moons_15.fit(X_moons, y_moons)
clf_circles_15 = KNeighborsClassifier(15)
clf_circles_15.fit(X_circles, y_circles)


fig, axs = plt.subplots(2, 2, figsize=(12,9))

plot_prediction(clf_moons_1, X_moons, y_moons, axs[0][0], 1)
plot_prediction(clf_circles_1, X_circles, y_circles, axs[0][1], 1)

plot_prediction(clf_moons_15, X_moons, y_moons, axs[1][0], 15)
plot_prediction(clf_circles_15, X_circles, y_circles, axs[1][1], 15)














trees_number = [i for i in range(1,21)]
precision_l= []
recall_l = []
y= titanic["survived"]
for i in trees_number:
    rf = RandomForestClassifier(n_estimators=i, criterion='gini', max_depth=3, min_samples_split=2, min_samples_leaf=1, min_weight_fraction_leaf=0.0, max_features='sqrt', max_leaf_nodes=None, min_impurity_decrease=0.0, bootstrap=True, oob_score=False, n_jobs=None, random_state=None, verbose=0, warm_start=False, class_weight=None, ccp_alpha=0.0, max_samples=None, monotonic_cst=None)
    precision = cross_val_score(rf, X, y, cv=10, scoring="precision")
    recall = cross_val_score(rf, X, y, cv=10, scoring="recall")
    precision_l.append(precision.mean())
    recall_l.append(recall.mean())



fig, axs = plt.subplots(1, 2,figsize=(14,5))
axs[0].set_title("precision vs. number of trees")
axs[0].plot(trees_number, precision_l)
axs[0].set_xlabel("number of trees")
axs[0].set_ylabel("precision")

axs[1].set_title("recall vs. number of trees")
axs[1].plot(trees_number, recall_l)
axs[1].set_xlabel("number of trees")
axs[1].set_ylabel("recall")



from sklearn.ensemble import RandomForestClassifier
rf =  RandomForestClassifier(n_estimators=20, criterion='gini', max_depth=3, min_samples_split=2, min_samples_leaf=1, min_weight_fraction_leaf=0.0, max_features='sqrt', max_leaf_nodes=None, min_impurity_decrease=0.0, bootstrap=True, oob_score=False, n_jobs=None, random_state=None, verbose=0, warm_start=False, class_weight=None, ccp_alpha=0.0, max_samples=None, monotonic_cst=None)
y= titanic["survived"]
rf.fit(X, y)

precision = cross_val_score(rf, X, y, cv=10, scoring="precision")
recall = cross_val_score(rf, X, y, cv=10, scoring="recall")

# Precision: avoid false positives
print("Precision: %0.2f (+/- %0.2f)" % (precision.mean(), precision.std() * 2))
# Recall: avoid false negatives
print("Recall: %0.2f (+/- %0.2f)" % (recall.mean(), recall.std() * 2))



