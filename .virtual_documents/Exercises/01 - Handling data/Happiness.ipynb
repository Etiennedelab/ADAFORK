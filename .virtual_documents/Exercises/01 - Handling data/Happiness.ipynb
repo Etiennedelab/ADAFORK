


!head Data/countries_info.csv


import pandas as pd
%matplotlib inline

DATA_FOLDER = 'Data/'

HAPPINESS_DATASET = DATA_FOLDER+"happiness2020.csv"
COUNTRIES_DATASET = DATA_FOLDER+"countries_info.csv"





# Write your code here
df_hapiness = pd.read_csv(HAPPINESS_DATASET,index_col=0)
df_countries= pd.read_csv(COUNTRIES_DATASET,decimal=',', index_col=0)






# Write your code here
#df_hapiness.index.str.lower()
df_merged = pd.merge(df_hapiness,df_countries , how='inner', left_on=df_hapiness.index.str.lower(), right_on = 'country_name') 
df_merged





# Write your code here
df_merged.sort_values(ascending=False, by='happiness_score').head(10)






# Write your code here
df_grouped = df_merged.groupby(df_merged.world_region)
newdf1=df_merged.groupby(df_merged.world_region).happiness_score.count()
newdf1.name = 'countries_number'
newdf2 = df_grouped.happiness_score.agg('mean')
df_wanted = pd.merge(newdf1,newdf2 , how='inner', left_index=True, right_index = True).sort_values(ascending=False, by='happiness_score')
df_wanted





# Write your code here
region_happy= df_grouped.happiness_score.agg('mean').sort_values(ascending=False).index[0]
countries = df_merged[df_merged['world_region']==region_happy]
countries





# Write your code here
df_letre = df_merged[['world_region','country_name']][df_merged['literacy']==100]
df_letre





# Write your code here
average_literacy = df_merged.literacy.mean()
average_literacy





# Write your code here
Lfifty = round(100* df_merged[df_merged['literacy']<50].country_name.count() /df_merged.country_name.count(),2)
print(Lfifty,"%")






# Write your code here
number_illiterate_country =df_merged.population.sum()- round((df_merged.population*df_merged.literacy/100).sum(),0)
percentage= round(number_illiterate_country /df_merged.population.sum() *100,2)
percentage





# Write your code here
df_merged['population_density'] = df_merged['population'] / df_merged['area']






# Write your code here
df_merged.sort_values(ascending=True, by='population_density')['happiness_score'].head(3)






# Write your code here
df_merged.plot.scatter(x='happiness_score', y='healthy_life_expectancy')



