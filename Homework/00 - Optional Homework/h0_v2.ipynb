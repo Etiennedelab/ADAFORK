{
 "cells": [
  {
   "cell_type": "code",
   "execution_count": 1,
   "id": "240ce8af-67e1-4420-9198-473ff4478efc",
   "metadata": {},
   "outputs": [],
   "source": [
    "import pandas as pd \n",
    "import os"
   ]
  },
  {
   "cell_type": "code",
   "execution_count": 2,
   "id": "abef8cf2-7f41-4c01-aae4-31d1e2fdd7bc",
   "metadata": {},
   "outputs": [
    {
     "data": {
      "text/html": [
       "<div>\n",
       "<style scoped>\n",
       "    .dataframe tbody tr th:only-of-type {\n",
       "        vertical-align: middle;\n",
       "    }\n",
       "\n",
       "    .dataframe tbody tr th {\n",
       "        vertical-align: top;\n",
       "    }\n",
       "\n",
       "    .dataframe thead th {\n",
       "        text-align: right;\n",
       "    }\n",
       "</style>\n",
       "<table border=\"1\" class=\"dataframe\">\n",
       "  <thead>\n",
       "    <tr style=\"text-align: right;\">\n",
       "      <th></th>\n",
       "      <th>Intent</th>\n",
       "      <th>Gender</th>\n",
       "      <th>Age</th>\n",
       "      <th>Race</th>\n",
       "      <th>Deaths</th>\n",
       "      <th>Population</th>\n",
       "      <th>Rate</th>\n",
       "    </tr>\n",
       "  </thead>\n",
       "  <tbody>\n",
       "    <tr>\n",
       "      <th>1</th>\n",
       "      <td>None selected</td>\n",
       "      <td>None selected</td>\n",
       "      <td>None selected</td>\n",
       "      <td>None selected</td>\n",
       "      <td>33599</td>\n",
       "      <td>316299978</td>\n",
       "      <td>10.6</td>\n",
       "    </tr>\n",
       "    <tr>\n",
       "      <th>2</th>\n",
       "      <td>None selected</td>\n",
       "      <td>None selected</td>\n",
       "      <td>None selected</td>\n",
       "      <td>White</td>\n",
       "      <td>22079</td>\n",
       "      <td>197369634</td>\n",
       "      <td>11.2</td>\n",
       "    </tr>\n",
       "    <tr>\n",
       "      <th>3</th>\n",
       "      <td>None selected</td>\n",
       "      <td>None selected</td>\n",
       "      <td>None selected</td>\n",
       "      <td>Black</td>\n",
       "      <td>7765</td>\n",
       "      <td>38896382</td>\n",
       "      <td>20.0</td>\n",
       "    </tr>\n",
       "    <tr>\n",
       "      <th>4</th>\n",
       "      <td>None selected</td>\n",
       "      <td>None selected</td>\n",
       "      <td>None selected</td>\n",
       "      <td>Hispanic</td>\n",
       "      <td>3007</td>\n",
       "      <td>54049078</td>\n",
       "      <td>5.6</td>\n",
       "    </tr>\n",
       "    <tr>\n",
       "      <th>5</th>\n",
       "      <td>None selected</td>\n",
       "      <td>None selected</td>\n",
       "      <td>None selected</td>\n",
       "      <td>Asian/Pacific Islander</td>\n",
       "      <td>442</td>\n",
       "      <td>16315561</td>\n",
       "      <td>2.7</td>\n",
       "    </tr>\n",
       "  </tbody>\n",
       "</table>\n",
       "</div>"
      ],
      "text/plain": [
       "          Intent         Gender            Age                    Race  \\\n",
       "1  None selected  None selected  None selected           None selected   \n",
       "2  None selected  None selected  None selected                   White   \n",
       "3  None selected  None selected  None selected                   Black   \n",
       "4  None selected  None selected  None selected                Hispanic   \n",
       "5  None selected  None selected  None selected  Asian/Pacific Islander   \n",
       "\n",
       "   Deaths  Population  Rate  \n",
       "1   33599   316299978  10.6  \n",
       "2   22079   197369634  11.2  \n",
       "3    7765    38896382  20.0  \n",
       "4    3007    54049078   5.6  \n",
       "5     442    16315561   2.7  "
      ]
     },
     "execution_count": 2,
     "metadata": {},
     "output_type": "execute_result"
    }
   ],
   "source": [
    "#pour lire un fichier csv à partir d'un lien github, ajouter ?raw=true à la fin de l'URL\n",
    "url = 'https://github.com/fivethirtyeight/guns-data/blob/master/interactive_data.csv?raw=true'\n",
    "df = pd.read_csv(url,index_col=0)\n",
    "df.head(5)\n"
   ]
  },
  {
   "cell_type": "code",
   "execution_count": 20,
   "id": "fb272da6-d4cd-407f-bbbc-4f9bffc1cb32",
   "metadata": {},
   "outputs": [],
   "source": [
    "mask = (df == 'None selected') #crée un mask true false, si la valeur du df est 'none selected', taille (ligne, col)\n",
    "mask_row = mask.any(axis =1) #crée un mask true false, si la ligne (spécifié par axis =1) contient au moins un true, taille(ligne,)\n",
    "#df.drop supprime les lignes en fonction des index renvoyés par df.index[mask_row]\n",
    "df_filter = df.drop(df.index[mask_row]) #df.index[max_row] renvoie une liste des index qui contiennent true dans max_row"
   ]
  },
  {
   "cell_type": "code",
   "execution_count": 23,
   "id": "fdabaf60-1984-464d-ab81-52d4854fda53",
   "metadata": {},
   "outputs": [],
   "source": [
    "all_death = df_filter['Deaths'].sum()"
   ]
  },
  {
   "cell_type": "code",
   "execution_count": 31,
   "id": "579c933c-2023-4fd0-893f-a2eeea3d2e8e",
   "metadata": {},
   "outputs": [
    {
     "name": "stdout",
     "output_type": "stream",
     "text": [
      "62.68194671826165\n"
     ]
    }
   ],
   "source": [
    "##  Nearly *two-thirds* of gun deaths are *suicides*.\n",
    "suicides = df_filter[df_filter['Intent'] == 'Suicide']\n",
    "nb_suicide = suicides['Deaths'].sum()\n",
    "\n",
    "result_1 = nb_suicide/all_death\n",
    "print(result_1*100)"
   ]
  },
  {
   "cell_type": "code",
   "execution_count": 33,
   "id": "0043a9be-17a8-4a0f-a764-3f6dc5305957",
   "metadata": {},
   "outputs": [
    {
     "name": "stdout",
     "output_type": "stream",
     "text": [
      "86.24275809668535\n"
     ]
    }
   ],
   "source": [
    "## More than *85 percent* of suicide victims are *male*.\n",
    "\n",
    "male_suicide = suicides[suicides['Gender'] == 'Male']\n",
    "nb_male_suicide = male_suicide['Deaths'].sum()\n",
    "result_2 = nb_male_suicide/nb_suicide\n",
    "print(result_2*100)"
   ]
  },
  {
   "cell_type": "code",
   "execution_count": 36,
   "id": "6acd1bae-1107-4625-a56e-3400daf15128",
   "metadata": {},
   "outputs": [
    {
     "name": "stdout",
     "output_type": "stream",
     "text": [
      "34.906980205387704\n"
     ]
    }
   ],
   "source": [
    "## Around *a third* of all gun deaths are *homicides*.\n",
    "homicides = df_filter[df_filter['Intent'] == 'Homicide']\n",
    "nb_homicide = homicides['Deaths'].sum()\n",
    "result_3 = nb_homicide/all_death\n",
    "print(result_3*100)"
   ]
  },
  {
   "cell_type": "code",
   "execution_count": 43,
   "id": "2af85ca5-ac8a-49bd-834d-e85ef8009da4",
   "metadata": {},
   "outputs": [
    {
     "name": "stdout",
     "output_type": "stream",
     "text": [
      "66.12482748044778\n"
     ]
    }
   ],
   "source": [
    "## Around *two-thirds* of homicide victims who are *males* in the *age-group of 15--34* are *black*.\n",
    "\n",
    "nb_homicide_male_young = homicides[(homicides['Gender'] == 'Male')&(homicides['Age'] =='15 - 34')]['Deaths'].sum()\n",
    "nb_homicide_male_young_black = homicides[(homicides['Gender'] == 'Male')&(homicides['Race'] =='Black')&(homicides['Age'] =='15 - 34')]['Deaths'].sum()\n",
    "\n",
    "result_4 = nb_homicide_male_young_black/nb_homicide_male_young\n",
    "print(result_4*100)\n"
   ]
  },
  {
   "cell_type": "code",
   "execution_count": 44,
   "id": "d05d218e-e3d8-4fb6-a936-be67439fac33",
   "metadata": {},
   "outputs": [
    {
     "name": "stdout",
     "output_type": "stream",
     "text": [
      "15.289502856655583\n"
     ]
    }
   ],
   "source": [
    "## *Women* constitue only *15 percent* of the total *homicide* victims.\n",
    "nb_homicide_women = homicides[homicides['Gender'] == 'Female']['Deaths'].sum()\n",
    "\n",
    "result_5 = nb_homicide_women/nb_homicide\n",
    "print(result_5*100)"
   ]
  }
 ],
 "metadata": {
  "kernelspec": {
   "display_name": "Python 3 (ipykernel)",
   "language": "python",
   "name": "python3"
  },
  "language_info": {
   "codemirror_mode": {
    "name": "ipython",
    "version": 3
   },
   "file_extension": ".py",
   "mimetype": "text/x-python",
   "name": "python",
   "nbconvert_exporter": "python",
   "pygments_lexer": "ipython3",
   "version": "3.12.4"
  }
 },
 "nbformat": 4,
 "nbformat_minor": 5
}
