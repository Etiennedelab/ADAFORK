{
 "cells": [
  {
   "cell_type": "code",
   "execution_count": 31,
   "id": "abb941a7-19cd-4dcc-8f4a-876632441aff",
   "metadata": {},
   "outputs": [],
   "source": [
    "import pandas as pd\n",
    "import os\n"
   ]
  },
  {
   "cell_type": "code",
   "execution_count": 95,
   "id": "12edf986-9ebf-420e-ba9b-7d32f90cbf56",
   "metadata": {},
   "outputs": [
    {
     "data": {
      "text/html": [
       "<div>\n",
       "<style scoped>\n",
       "    .dataframe tbody tr th:only-of-type {\n",
       "        vertical-align: middle;\n",
       "    }\n",
       "\n",
       "    .dataframe tbody tr th {\n",
       "        vertical-align: top;\n",
       "    }\n",
       "\n",
       "    .dataframe thead th {\n",
       "        text-align: right;\n",
       "    }\n",
       "</style>\n",
       "<table border=\"1\" class=\"dataframe\">\n",
       "  <thead>\n",
       "    <tr style=\"text-align: right;\">\n",
       "      <th></th>\n",
       "      <th>Intent</th>\n",
       "      <th>Gender</th>\n",
       "      <th>Age</th>\n",
       "      <th>Race</th>\n",
       "      <th>Deaths</th>\n",
       "      <th>Population</th>\n",
       "      <th>Rate</th>\n",
       "    </tr>\n",
       "  </thead>\n",
       "  <tbody>\n",
       "    <tr>\n",
       "      <th>1</th>\n",
       "      <td>None selected</td>\n",
       "      <td>None selected</td>\n",
       "      <td>None selected</td>\n",
       "      <td>None selected</td>\n",
       "      <td>33599</td>\n",
       "      <td>316299978</td>\n",
       "      <td>10.6</td>\n",
       "    </tr>\n",
       "    <tr>\n",
       "      <th>2</th>\n",
       "      <td>None selected</td>\n",
       "      <td>None selected</td>\n",
       "      <td>None selected</td>\n",
       "      <td>White</td>\n",
       "      <td>22079</td>\n",
       "      <td>197369634</td>\n",
       "      <td>11.2</td>\n",
       "    </tr>\n",
       "    <tr>\n",
       "      <th>3</th>\n",
       "      <td>None selected</td>\n",
       "      <td>None selected</td>\n",
       "      <td>None selected</td>\n",
       "      <td>Black</td>\n",
       "      <td>7765</td>\n",
       "      <td>38896382</td>\n",
       "      <td>20.0</td>\n",
       "    </tr>\n",
       "    <tr>\n",
       "      <th>4</th>\n",
       "      <td>None selected</td>\n",
       "      <td>None selected</td>\n",
       "      <td>None selected</td>\n",
       "      <td>Hispanic</td>\n",
       "      <td>3007</td>\n",
       "      <td>54049078</td>\n",
       "      <td>5.6</td>\n",
       "    </tr>\n",
       "    <tr>\n",
       "      <th>5</th>\n",
       "      <td>None selected</td>\n",
       "      <td>None selected</td>\n",
       "      <td>None selected</td>\n",
       "      <td>Asian/Pacific Islander</td>\n",
       "      <td>442</td>\n",
       "      <td>16315561</td>\n",
       "      <td>2.7</td>\n",
       "    </tr>\n",
       "  </tbody>\n",
       "</table>\n",
       "</div>"
      ],
      "text/plain": [
       "          Intent         Gender            Age                    Race  \\\n",
       "1  None selected  None selected  None selected           None selected   \n",
       "2  None selected  None selected  None selected                   White   \n",
       "3  None selected  None selected  None selected                   Black   \n",
       "4  None selected  None selected  None selected                Hispanic   \n",
       "5  None selected  None selected  None selected  Asian/Pacific Islander   \n",
       "\n",
       "   Deaths  Population  Rate  \n",
       "1   33599   316299978  10.6  \n",
       "2   22079   197369634  11.2  \n",
       "3    7765    38896382  20.0  \n",
       "4    3007    54049078   5.6  \n",
       "5     442    16315561   2.7  "
      ]
     },
     "execution_count": 95,
     "metadata": {},
     "output_type": "execute_result"
    }
   ],
   "source": [
    "PATH_IN = './data/'\n",
    "fname = os.path.join(PATH_IN, 'interactive_data.csv')\n",
    "df = pd.read_csv(fname, index_col=0)\n",
    "df.head(5)\n"
   ]
  },
  {
   "cell_type": "code",
   "execution_count": 154,
   "id": "6df7ea6f-e507-42c5-8a38-741fc414973f",
   "metadata": {},
   "outputs": [
    {
     "data": {
      "text/html": [
       "<div>\n",
       "<style scoped>\n",
       "    .dataframe tbody tr th:only-of-type {\n",
       "        vertical-align: middle;\n",
       "    }\n",
       "\n",
       "    .dataframe tbody tr th {\n",
       "        vertical-align: top;\n",
       "    }\n",
       "\n",
       "    .dataframe thead th {\n",
       "        text-align: right;\n",
       "    }\n",
       "</style>\n",
       "<table border=\"1\" class=\"dataframe\">\n",
       "  <thead>\n",
       "    <tr style=\"text-align: right;\">\n",
       "      <th></th>\n",
       "      <th>Intent</th>\n",
       "      <th>Gender</th>\n",
       "      <th>Age</th>\n",
       "      <th>Race</th>\n",
       "      <th>Deaths</th>\n",
       "      <th>Population</th>\n",
       "      <th>Rate</th>\n",
       "    </tr>\n",
       "  </thead>\n",
       "  <tbody>\n",
       "    <tr>\n",
       "      <th>152</th>\n",
       "      <td>Suicide</td>\n",
       "      <td>Female</td>\n",
       "      <td>Under 15</td>\n",
       "      <td>White</td>\n",
       "      <td>19</td>\n",
       "      <td>15355910</td>\n",
       "      <td>0.1</td>\n",
       "    </tr>\n",
       "    <tr>\n",
       "      <th>153</th>\n",
       "      <td>Suicide</td>\n",
       "      <td>Female</td>\n",
       "      <td>Under 15</td>\n",
       "      <td>Black</td>\n",
       "      <td>1</td>\n",
       "      <td>4095428</td>\n",
       "      <td>0.0</td>\n",
       "    </tr>\n",
       "    <tr>\n",
       "      <th>154</th>\n",
       "      <td>Suicide</td>\n",
       "      <td>Female</td>\n",
       "      <td>Under 15</td>\n",
       "      <td>Hispanic</td>\n",
       "      <td>4</td>\n",
       "      <td>7330024</td>\n",
       "      <td>0.1</td>\n",
       "    </tr>\n",
       "    <tr>\n",
       "      <th>155</th>\n",
       "      <td>Suicide</td>\n",
       "      <td>Female</td>\n",
       "      <td>Under 15</td>\n",
       "      <td>Asian/Pacific Islander</td>\n",
       "      <td>1</td>\n",
       "      <td>1393440</td>\n",
       "      <td>0.1</td>\n",
       "    </tr>\n",
       "    <tr>\n",
       "      <th>156</th>\n",
       "      <td>Suicide</td>\n",
       "      <td>Female</td>\n",
       "      <td>Under 15</td>\n",
       "      <td>Other</td>\n",
       "      <td>0</td>\n",
       "      <td>1661877</td>\n",
       "      <td>0.0</td>\n",
       "    </tr>\n",
       "  </tbody>\n",
       "</table>\n",
       "</div>"
      ],
      "text/plain": [
       "      Intent  Gender       Age                    Race  Deaths  Population  \\\n",
       "152  Suicide  Female  Under 15                   White      19    15355910   \n",
       "153  Suicide  Female  Under 15                   Black       1     4095428   \n",
       "154  Suicide  Female  Under 15                Hispanic       4     7330024   \n",
       "155  Suicide  Female  Under 15  Asian/Pacific Islander       1     1393440   \n",
       "156  Suicide  Female  Under 15                   Other       0     1661877   \n",
       "\n",
       "     Rate  \n",
       "152   0.1  \n",
       "153   0.0  \n",
       "154   0.1  \n",
       "155   0.1  \n",
       "156   0.0  "
      ]
     },
     "execution_count": 154,
     "metadata": {},
     "output_type": "execute_result"
    }
   ],
   "source": [
    "df_filtre = df[~df.isin(['None selected']).any(axis=1)]\n",
    "df_filtre.head(5)"
   ]
  },
  {
   "cell_type": "code",
   "execution_count": 160,
   "id": "341a6a97-1c86-46d1-a5f3-7208f9b9c041",
   "metadata": {},
   "outputs": [
    {
     "name": "stdout",
     "output_type": "stream",
     "text": [
      "62.68194671826165\n",
      "21058\n"
     ]
    }
   ],
   "source": [
    "total_death = df_filtre['Deaths'].sum()\n",
    "suicide_death = df_filtre[df_filtre['Intent'] == 'Suicide']['Deaths'].sum()\n",
    "#suicide_death= df_suicide['Deaths'].sum()\n",
    "ratio= suicide_death/ total_death\n",
    "print(ratio*100)\n",
    "print(suicide_death)"
   ]
  },
  {
   "cell_type": "code",
   "execution_count": 167,
   "id": "22b49fc6-fc26-4696-af99-2729e34b7aee",
   "metadata": {},
   "outputs": [
    {
     "name": "stdout",
     "output_type": "stream",
     "text": [
      "86.24275809668535\n"
     ]
    }
   ],
   "source": [
    "suicide_male_death = df_filtre[(df_filtre['Intent'] == 'Suicide') & (df_filtre['Gender'] == 'Male')]['Deaths'].sum()\n",
    "ratio_male_suicide= suicide_male_death/suicide_death\n",
    "print(ratio_male_suicide*100)"
   ]
  },
  {
   "cell_type": "code",
   "execution_count": 187,
   "id": "f5408fb1-31eb-4ca1-ab14-8790edfa9c35",
   "metadata": {},
   "outputs": [
    {
     "name": "stdout",
     "output_type": "stream",
     "text": [
      "34.906980205387704\n"
     ]
    }
   ],
   "source": [
    "homicide_death = df_filtre[df_filtre['Intent'] == 'Homicide']['Deaths'].sum()\n",
    "ratio_homicide = homicide_death/ total_death\n",
    "print(ratio_homicide*100)"
   ]
  },
  {
   "cell_type": "code",
   "execution_count": 202,
   "id": "6a2b10b9-d250-47ec-b6c4-4e7a366b7e38",
   "metadata": {},
   "outputs": [
    {
     "name": "stdout",
     "output_type": "stream",
     "text": [
      "66.12482748044778\n"
     ]
    }
   ],
   "source": [
    "men_homicide =df_filtre[(df_filtre['Intent'] == 'Homicide') & (df_filtre['Gender'] == 'Male')& (df_filtre['Age'] == '15 - 34')]['Deaths'].sum()\n",
    "men_homicide_black_1534= df_filtre[(df_filtre['Intent'] == 'Homicide') & (df_filtre['Gender'] == 'Male') & (df_filtre['Race'] == 'Black')& (df_filtre['Age'] == '15 - 34')]['Deaths'].sum()\n",
    "ratiob=men_homicide_black_1534/men_homicide\n",
    "print(ratiob*100)"
   ]
  },
  {
   "cell_type": "code",
   "execution_count": 209,
   "id": "d1c794b3-4f4c-4af9-9962-c9e3f86cb61a",
   "metadata": {},
   "outputs": [
    {
     "name": "stdout",
     "output_type": "stream",
     "text": [
      "15.289502856655583\n"
     ]
    }
   ],
   "source": [
    "woman_homicide =  df_filtre[(df_filtre['Intent'] == 'Homicide') & (df_filtre['Gender'] == 'Female')]['Deaths'].sum()\n",
    "ratiow= woman_homicide/homicide_death\n",
    "print(ratiow*100)"
   ]
  },
  {
   "cell_type": "code",
   "execution_count": null,
   "id": "d9da4b05-6bf8-4564-977e-af036581d557",
   "metadata": {},
   "outputs": [],
   "source": []
  }
 ],
 "metadata": {
  "kernelspec": {
   "display_name": "Python 3 (ipykernel)",
   "language": "python",
   "name": "python3"
  },
  "language_info": {
   "codemirror_mode": {
    "name": "ipython",
    "version": 3
   },
   "file_extension": ".py",
   "mimetype": "text/x-python",
   "name": "python",
   "nbconvert_exporter": "python",
   "pygments_lexer": "ipython3",
   "version": "3.12.4"
  }
 },
 "nbformat": 4,
 "nbformat_minor": 5
}
