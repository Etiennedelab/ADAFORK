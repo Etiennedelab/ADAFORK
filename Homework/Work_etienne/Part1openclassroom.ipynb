{
 "cells": [
  {
   "cell_type": "code",
   "execution_count": 3,
   "id": "8823329a-13e7-4f85-8c49-6ddeb8f304a2",
   "metadata": {},
   "outputs": [
    {
     "name": "stdout",
     "output_type": "stream",
     "text": [
      "[1800 1500 2200 3000 2172 5000 1600 1200 1100 1300]\n"
     ]
    },
    {
     "data": {
      "text/plain": [
       "dtype('int32')"
      ]
     },
     "execution_count": 3,
     "metadata": {},
     "output_type": "execute_result"
    }
   ],
   "source": [
    "import numpy as np\n",
    "liste = [1800, 1500, 2200, 3000, 2172, 5000, 1400, 1200, 1100, 1300]\n",
    "revenus = np.array(liste)\n",
    "haut_revenus = revenus[revenus>3000]\n",
    "somme = revenus.sum()\n",
    "moyenne = revenus.mean()\n",
    "revenus[6] = revenus[6]+200\n",
    "print(revenus)\n",
    "revenus.dtype"
   ]
  },
  {
   "cell_type": "code",
   "execution_count": 5,
   "id": "174def12-5ba9-4470-8751-b899d3f670ce",
   "metadata": {},
   "outputs": [
    {
     "name": "stdout",
     "output_type": "stream",
     "text": [
      "[2172   37    2]\n",
      "760.1999999999999\n",
      "[1800 1500 2200 3000 2172 5000 1400 1200 1100 1300]\n"
     ]
    }
   ],
   "source": [
    "hugo = [1800, 21, 0]\n",
    "richard = [1500, 54, 2]\n",
    "emilie = [2200, 28, 3]\n",
    "pierre = [3000, 37, 1]\n",
    "paul = [2172, 37, 2]\n",
    "deborah = [5000, 32, 0]\n",
    "yohann = [1400, 23, 0]\n",
    "anne = [1200, 25, 1]\n",
    "thibault = [1100, 19, 0]\n",
    "emmanuel = [1300, 31, 2]\n",
    "\n",
    "tableau = [hugo, richard, emilie, pierre, paul, deborah,\n",
    "           yohann, anne, thibault, emmanuel]\n",
    "data = np.array(tableau)\n",
    "print(data[4,:])\n",
    "mensualite_max = data[4,0] * 0.35\n",
    "print(mensualite_max)\n",
    "louise = [1900, 31, 1]\n",
    "np.vstack((data,louise))\n",
    "revenu = data[:,0]\n",
    "print(revenu)\n"
   ]
  },
  {
   "cell_type": "code",
   "execution_count": null,
   "id": "bc981bae-87c3-42b9-af9a-b4c675913f81",
   "metadata": {},
   "outputs": [],
   "source": []
  }
 ],
 "metadata": {
  "kernelspec": {
   "display_name": "Python 3 (ipykernel)",
   "language": "python",
   "name": "python3"
  },
  "language_info": {
   "codemirror_mode": {
    "name": "ipython",
    "version": 3
   },
   "file_extension": ".py",
   "mimetype": "text/x-python",
   "name": "python",
   "nbconvert_exporter": "python",
   "pygments_lexer": "ipython3",
   "version": "3.12.4"
  }
 },
 "nbformat": 4,
 "nbformat_minor": 5
}
